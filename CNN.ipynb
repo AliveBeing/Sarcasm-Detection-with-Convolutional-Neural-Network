{
  "nbformat": 4,
  "nbformat_minor": 0,
  "metadata": {
    "colab": {
      "provenance": [],
      "authorship_tag": "ABX9TyMr5MJti+oJE7TtDt0NzHul",
      "include_colab_link": true
    },
    "kernelspec": {
      "name": "python3",
      "display_name": "Python 3"
    },
    "language_info": {
      "name": "python"
    }
  },
  "cells": [
    {
      "cell_type": "markdown",
      "metadata": {
        "id": "view-in-github",
        "colab_type": "text"
      },
      "source": [
        "<a href=\"https://colab.research.google.com/github/AliveBeing/Sarcasm-Detection-with-Convolutional-Neural-Network/blob/main/CNN.ipynb\" target=\"_parent\"><img src=\"https://colab.research.google.com/assets/colab-badge.svg\" alt=\"Open In Colab\"/></a>"
      ]
    },
    {
      "cell_type": "code",
      "execution_count": null,
      "metadata": {
        "colab": {
          "base_uri": "https://localhost:8080/"
        },
        "id": "dME-qNZszTHe",
        "outputId": "cdd367a1-b651-48d6-c07f-bd76a5bdab0b"
      },
      "outputs": [
        {
          "output_type": "stream",
          "name": "stdout",
          "text": [
            "                                        article_link  \\\n",
            "0  https://www.huffingtonpost.com/entry/versace-b...   \n",
            "1  https://www.huffingtonpost.com/entry/roseanne-...   \n",
            "2  https://local.theonion.com/mom-starting-to-fea...   \n",
            "3  https://politics.theonion.com/boehner-just-wan...   \n",
            "4  https://www.huffingtonpost.com/entry/jk-rowlin...   \n",
            "\n",
            "                                            headline  is_sarcastic  \n",
            "0  former versace store clerk sues over secret 'b...             0  \n",
            "1  the 'roseanne' revival catches up to our thorn...             0  \n",
            "2  mom starting to fear son's web series closest ...             1  \n",
            "3  boehner just wants wife to listen, not come up...             1  \n",
            "4  j.k. rowling wishes snape happy birthday in th...             0  \n"
          ]
        }
      ],
      "source": [
        "import pandas as pd\n",
        "import numpy as np\n",
        "import tensorflow as tf\n",
        "from tensorflow.keras.preprocessing.text import Tokenizer\n",
        "from tensorflow.keras.preprocessing.sequence import pad_sequences\n",
        "from sklearn.model_selection import train_test_split\n",
        "from tensorflow.keras.models import Sequential\n",
        "from tensorflow.keras.layers import Embedding, Conv1D, GlobalMaxPooling1D, Dense, Dropout\n",
        "\n",
        "# Load the dataset\n",
        "df = pd.read_json('/content/sample_data/Sarcasm_Headlines_Dataset.json', lines=True)\n",
        "\n",
        "# Check the data\n",
        "print(df.head())\n"
      ]
    },
    {
      "cell_type": "code",
      "source": [
        "# Split the data into input (headlines) and output (labels)\n",
        "sentences = df['headline'].values\n",
        "labels = df['is_sarcastic'].values\n",
        "\n",
        "# Tokenize the text data\n",
        "tokenizer = Tokenizer(oov_token='<OOV>')\n",
        "tokenizer.fit_on_texts(sentences)\n",
        "word_index = tokenizer.word_index\n",
        "\n",
        "# Convert text to sequences\n",
        "sequences = tokenizer.texts_to_sequences(sentences)\n",
        "\n",
        "# Pad the sequences to ensure uniform input length\n",
        "max_length = 100\n",
        "padded_sequences = pad_sequences(sequences, maxlen=max_length, padding='post', truncating='post')\n",
        "\n",
        "# Split the data into training and testing sets\n",
        "X_train, X_test, y_train, y_test = train_test_split(padded_sequences, labels, test_size=0.2, random_state=42)\n"
      ],
      "metadata": {
        "id": "RWPM8fBoE-qo"
      },
      "execution_count": null,
      "outputs": []
    },
    {
      "cell_type": "code",
      "source": [
        "vocab_size = len(word_index) + 1\n",
        "embedding_dim = 16\n",
        "\n",
        "model = Sequential([\n",
        "    Embedding(vocab_size, embedding_dim, input_length=max_length),\n",
        "    Conv1D(128, 5, activation='relu'),\n",
        "    GlobalMaxPooling1D(),\n",
        "    Dense(24, activation='relu'),\n",
        "    Dropout(0.5),\n",
        "    Dense(1, activation='sigmoid')\n",
        "])\n",
        "\n",
        "model.compile(loss='binary_crossentropy', optimizer='adam', metrics=['accuracy'])\n",
        "\n",
        "print(model.summary())\n"
      ],
      "metadata": {
        "colab": {
          "base_uri": "https://localhost:8080/"
        },
        "id": "lHAL1tYZFFQO",
        "outputId": "36343146-764a-48d8-e2c9-2a687867ffe8"
      },
      "execution_count": null,
      "outputs": [
        {
          "output_type": "stream",
          "name": "stdout",
          "text": [
            "Model: \"sequential\"\n",
            "_________________________________________________________________\n",
            " Layer (type)                Output Shape              Param #   \n",
            "=================================================================\n",
            " embedding (Embedding)       (None, 100, 16)           474528    \n",
            "                                                                 \n",
            " conv1d (Conv1D)             (None, 96, 128)           10368     \n",
            "                                                                 \n",
            " global_max_pooling1d (Glob  (None, 128)               0         \n",
            " alMaxPooling1D)                                                 \n",
            "                                                                 \n",
            " dense (Dense)               (None, 24)                3096      \n",
            "                                                                 \n",
            " dropout (Dropout)           (None, 24)                0         \n",
            "                                                                 \n",
            " dense_1 (Dense)             (None, 1)                 25        \n",
            "                                                                 \n",
            "=================================================================\n",
            "Total params: 488017 (1.86 MB)\n",
            "Trainable params: 488017 (1.86 MB)\n",
            "Non-trainable params: 0 (0.00 Byte)\n",
            "_________________________________________________________________\n",
            "None\n"
          ]
        }
      ]
    },
    {
      "cell_type": "code",
      "source": [
        "epochs = 10\n",
        "batch_size = 32\n",
        "\n",
        "history = model.fit(X_train, y_train, epochs=epochs, batch_size=batch_size, validation_data=(X_test, y_test))\n"
      ],
      "metadata": {
        "colab": {
          "base_uri": "https://localhost:8080/"
        },
        "id": "_4Ts9yJEFdHS",
        "outputId": "77decd2b-0ab3-46f5-ac70-a17e99f627cd"
      },
      "execution_count": null,
      "outputs": [
        {
          "output_type": "stream",
          "name": "stdout",
          "text": [
            "Epoch 1/10\n",
            "668/668 [==============================] - 13s 18ms/step - loss: 0.4778 - accuracy: 0.7649 - val_loss: 0.3501 - val_accuracy: 0.8463\n",
            "Epoch 2/10\n",
            "668/668 [==============================] - 12s 18ms/step - loss: 0.2353 - accuracy: 0.9163 - val_loss: 0.3487 - val_accuracy: 0.8527\n",
            "Epoch 3/10\n",
            "668/668 [==============================] - 12s 18ms/step - loss: 0.1066 - accuracy: 0.9674 - val_loss: 0.4473 - val_accuracy: 0.8398\n",
            "Epoch 4/10\n",
            "668/668 [==============================] - 12s 18ms/step - loss: 0.0419 - accuracy: 0.9902 - val_loss: 0.6424 - val_accuracy: 0.8383\n",
            "Epoch 5/10\n",
            "668/668 [==============================] - 11s 16ms/step - loss: 0.0166 - accuracy: 0.9959 - val_loss: 0.8271 - val_accuracy: 0.8390\n",
            "Epoch 6/10\n",
            "668/668 [==============================] - 12s 18ms/step - loss: 0.0094 - accuracy: 0.9981 - val_loss: 0.9687 - val_accuracy: 0.8375\n",
            "Epoch 7/10\n",
            "668/668 [==============================] - 12s 18ms/step - loss: 0.0071 - accuracy: 0.9985 - val_loss: 1.0984 - val_accuracy: 0.8385\n",
            "Epoch 8/10\n",
            "668/668 [==============================] - 12s 18ms/step - loss: 0.0048 - accuracy: 0.9992 - val_loss: 1.1687 - val_accuracy: 0.8370\n",
            "Epoch 9/10\n",
            "668/668 [==============================] - 12s 18ms/step - loss: 0.0056 - accuracy: 0.9989 - val_loss: 1.2711 - val_accuracy: 0.8306\n",
            "Epoch 10/10\n",
            "668/668 [==============================] - 11s 17ms/step - loss: 0.0049 - accuracy: 0.9991 - val_loss: 1.3123 - val_accuracy: 0.8390\n"
          ]
        }
      ]
    },
    {
      "cell_type": "code",
      "source": [
        "test_loss, test_acc = model.evaluate(X_test, y_test)\n",
        "print(f'Test Accuracy: {test_acc:.2f}')\n"
      ],
      "metadata": {
        "colab": {
          "base_uri": "https://localhost:8080/"
        },
        "id": "6J-LNfiDF3ZJ",
        "outputId": "1410c9f6-13b4-4420-82ed-3a34076e9416"
      },
      "execution_count": null,
      "outputs": [
        {
          "output_type": "stream",
          "name": "stdout",
          "text": [
            "167/167 [==============================] - 1s 4ms/step - loss: 1.3123 - accuracy: 0.8390\n",
            "Test Accuracy: 0.84\n"
          ]
        }
      ]
    },
    {
      "cell_type": "code",
      "source": [
        "def predict_sarcasm(text):\n",
        "    sequence = tokenizer.texts_to_sequences([text])\n",
        "    padded_sequence = pad_sequences(sequence, maxlen=max_length, padding='post', truncating='post')\n",
        "    prediction = model.predict(padded_sequence)\n",
        "    return \"Sarcastic\" if prediction >= 0.5 else \"Not Sarcastic\"\n",
        "\n",
        "sample_text = \"The weather is absolutely wonderful today!\"\n",
        "print(predict_sarcasm(sample_text))\n"
      ],
      "metadata": {
        "colab": {
          "base_uri": "https://localhost:8080/"
        },
        "id": "4PphUpK9F4R6",
        "outputId": "a0a382f7-131e-49f2-88c7-a0162f46cd46"
      },
      "execution_count": null,
      "outputs": [
        {
          "output_type": "stream",
          "name": "stdout",
          "text": [
            "1/1 [==============================] - 0s 124ms/step\n",
            "Not Sarcastic\n"
          ]
        }
      ]
    },
    {
      "cell_type": "code",
      "source": [
        "sample_text = \"boehner just wants wife to listen, not come up with alternative debt-reduction ideas\"\n",
        "print(predict_sarcasm(sample_text))"
      ],
      "metadata": {
        "colab": {
          "base_uri": "https://localhost:8080/"
        },
        "id": "I6ZQegJM3KmV",
        "outputId": "54884230-45a6-49e9-fb79-e17de0b321eb"
      },
      "execution_count": null,
      "outputs": [
        {
          "output_type": "stream",
          "name": "stdout",
          "text": [
            "1/1 [==============================] - 0s 21ms/step\n",
            "Sarcastic\n"
          ]
        }
      ]
    },
    {
      "cell_type": "code",
      "source": [
        "sample_text = \"I am busy right now, can I ignore you some other time?\"\n",
        "print(predict_sarcasm(sample_text))"
      ],
      "metadata": {
        "colab": {
          "base_uri": "https://localhost:8080/"
        },
        "id": "85gxjN8bHHAM",
        "outputId": "9c63ed08-d8e6-45bf-93c9-1f44c07868b9"
      },
      "execution_count": null,
      "outputs": [
        {
          "output_type": "stream",
          "name": "stdout",
          "text": [
            "1/1 [==============================] - 0s 22ms/step\n",
            "Sarcastic\n"
          ]
        }
      ]
    }
  ]
}